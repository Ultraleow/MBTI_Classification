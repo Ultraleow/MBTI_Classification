{
 "cells": [
  {
   "cell_type": "code",
   "execution_count": 312,
   "metadata": {},
   "outputs": [],
   "source": [
    "from nltk.corpus import stopwords\n",
    "from tqdm import tqdm_notebook\n",
    "from nltk.stem import WordNetLemmatizer\n",
    "import pandas as pd\n",
    "import re\n",
    "import random\n",
    "\n",
    "stop = stopwords.words('english')\n",
    "lemma = WordNetLemmatizer()"
   ]
  },
  {
   "cell_type": "code",
   "execution_count": 2,
   "metadata": {},
   "outputs": [],
   "source": [
    "df = pd.read_csv('mbti_1.csv')"
   ]
  },
  {
   "cell_type": "markdown",
   "metadata": {},
   "source": [
    "# Clean data\n",
    "\n",
    "https://www.analyticsvidhya.com/blog/2018/02/the-different-methods-deal-text-data-predictive-python/\n",
    "\n",
    "1. Lowercase and remove LINK\n",
    "2. remove numeric and lemmatize words\n",
    "3. store words in vocab to count each word occurence\n",
    "4. remove rare words (i define rare word as word with word_count < 10)"
   ]
  },
  {
   "cell_type": "code",
   "execution_count": 10,
   "metadata": {},
   "outputs": [],
   "source": [
    "# all lowercase and remove LINK\n",
    "df.posts = df.posts.str.lower().str.replace(r'http[s]?://(?:[a-zA-Z]|[0-9]|[$-_@.&+]|(?:%[0-9a-fA-F][0-9a-fA-F]))+', '')"
   ]
  },
  {
   "cell_type": "code",
   "execution_count": 46,
   "metadata": {},
   "outputs": [
    {
     "data": {
      "application/vnd.jupyter.widget-view+json": {
       "model_id": "6339fb68256a4a949c8661e84d42205a",
       "version_major": 2,
       "version_minor": 0
      },
      "text/plain": [
       "HBox(children=(IntProgress(value=1, bar_style='info', max=1), HTML(value='')))"
      ]
     },
     "metadata": {},
     "output_type": "display_data"
    },
    {
     "name": "stdout",
     "output_type": "stream",
     "text": [
      "\n"
     ]
    }
   ],
   "source": [
    "# remove numeric and lemmatize words\n",
    "results = {}\n",
    "for row in tqdm_notebook(df.iterrows()):\n",
    "    post = row[1]['posts']\n",
    "    label = row[1]['type']\n",
    "    \n",
    "    post = re.sub('[^ a-zA-Z]', '', post)\n",
    "    filtered = []\n",
    "    for word in post.split():\n",
    "        if word not in stop:\n",
    "            filtered.append(lemma.lemmatize(word))\n",
    "    results[' '.join(filtered)] = label"
   ]
  },
  {
   "cell_type": "code",
   "execution_count": 173,
   "metadata": {},
   "outputs": [],
   "source": [
    "# create new df to store data\n",
    "df2 = pd.DataFrame().from_dict(results, orient='index').reset_index()\n",
    "df2 = df2.rename(columns={'index':'x', 0:'y'})"
   ]
  },
  {
   "cell_type": "code",
   "execution_count": 296,
   "metadata": {},
   "outputs": [],
   "source": [
    "PAD = 0\n",
    "class Vocab:\n",
    "    def __init__(self):\n",
    "        self.word2idx = {'<PAD>':PAD}\n",
    "        self.idx2word = {PAD:'<PAD>'}\n",
    "        self.word_count = {}\n",
    "        \n",
    "    def add_word(self, word):\n",
    "        if word not in self.word2idx:\n",
    "            self.idx2word[len(self.idx2word)] = word\n",
    "            self.word2idx[word] = len(self.word2idx)\n",
    "            self.word_count[word] = 1\n",
    "        self.word_count[word] += 1\n",
    "        \n",
    "    def add_sentence(self, sentence):\n",
    "        for word in sentence.split():\n",
    "            self.add_word(word)\n",
    "            \n",
    "    def __len__(self):\n",
    "        return len(self.word2idx)"
   ]
  },
  {
   "cell_type": "code",
   "execution_count": 297,
   "metadata": {},
   "outputs": [],
   "source": [
    "# to count words for removing rare words\n",
    "# also can be used to create data (check data section on usage)\n",
    "vocab = Vocab()\n",
    "for sentence in df2.x:\n",
    "    vocab.add_sentence(sentence)"
   ]
  },
  {
   "cell_type": "code",
   "execution_count": 298,
   "metadata": {},
   "outputs": [],
   "source": [
    "# remove rare words\n",
    "rare_words = [(k, vocab.word2idx[k]) for k,v in vocab.word_count.items() if v < 10]\n",
    "for word, idx in rare_words:\n",
    "    vocab.word2idx.pop(word)\n",
    "    vocab.word_count.pop(word)\n",
    "    vocab.idx2word.pop(idx)\n",
    "df2.x = df2.x.apply(lambda x: ' '.join([i for i in x.split() if i in vocab.word2idx]))"
   ]
  },
  {
   "cell_type": "markdown",
   "metadata": {},
   "source": [
    "# 4 labels"
   ]
  },
  {
   "cell_type": "markdown",
   "metadata": {},
   "source": [
    "## Preprocess Data\n",
    "\n",
    "#### Method 1\n",
    "\n",
    "Suitable model\n",
    "- tradition ML model (logistic regression, sgd classifier, SVM classifier etc)\n",
    "- Feed forward neural network\n",
    "\n",
    "\n",
    "1. apply Count vectorizer - to count word occurence in each sentence\n",
    "2. apply tfidf\n",
    "3. encode label into number\n",
    "4. split dataset\n",
    "5. Check imbalance dataset -> if imbalance, use undersampling or oversampling to handle it\n",
    "6. training and evaluate\n",
    "7. test\n",
    "\n",
    "\n",
    "\n",
    "#### Method 2\n",
    "\n",
    "\n",
    "suitable model\n",
    "- lstm, rnn, gru (example of famous architecture -> seq2seq (typically used for machine translation))\n",
    "\n",
    "\n",
    "1. create vocab -> store each word, associate with a unique index\n",
    "2. for each sentence, tokenize the word, and convert the word into index (using the vocab class)\n",
    "3. create model -> typically consist of embedding layer, rnn, and fully connected layer for classify\n",
    "4. train by batch\n",
    "5. Loss function for imbalance data -> https://datascience.stackexchange.com/questions/48369/what-loss-function-to-use-for-imbalanced-classes-using-pytorch"
   ]
  },
  {
   "cell_type": "code",
   "execution_count": 266,
   "metadata": {},
   "outputs": [],
   "source": [
    "from sklearn.feature_extraction.text import CountVectorizer, TfidfTransformer\n",
    "from sklearn.model_selection import train_test_split\n",
    "\n",
    "# for plotting\n",
    "import matplotlib.pyplot as plt\n",
    "import seaborn as sns\n",
    "\n",
    "# to handle imbalance label\n",
    "from imblearn.over_sampling import SMOTE\n",
    "from imblearn.under_sampling import RandomUnderSampler"
   ]
  },
  {
   "cell_type": "code",
   "execution_count": 339,
   "metadata": {},
   "outputs": [],
   "source": [
    "# Count Vectorizer explain - https://kavita-ganesan.com/how-to-use-countvectorizer/#.Xs8mEmgzZPY\n",
    "# Tfidf explain - https://kavita-ganesan.com/tfidftransformer-tfidfvectorizer-usage-differences/#.Xs8l72gzZPY\n",
    "count_vec = CountVectorizer(min_df=0.01, max_df=0.99)\n",
    "tfidf_vec = TfidfTransformer()"
   ]
  },
  {
   "cell_type": "code",
   "execution_count": 340,
   "metadata": {},
   "outputs": [],
   "source": [
    "X = df2.x.values\n",
    "y = df2.y.values"
   ]
  },
  {
   "cell_type": "code",
   "execution_count": 341,
   "metadata": {},
   "outputs": [],
   "source": [
    "X_vec = count_vec.fit_transform(X)\n",
    "X_vec = tfidf_vec.fit_transform(X_vec)"
   ]
  },
  {
   "cell_type": "code",
   "execution_count": 243,
   "metadata": {
    "scrolled": true
   },
   "outputs": [],
   "source": [
    "# Create data label\n",
    "label_map = {'I':0, 'E':1,\n",
    "            'N':0, 'S':1,\n",
    "            'T':0, 'F':1,\n",
    "            'J':0, 'P':1}\n",
    "\n",
    "IE_label = []\n",
    "NS_label = []\n",
    "TF_label = []\n",
    "JP_label = []\n",
    "\n",
    "for i in y:\n",
    "    for idx, j in enumerate(i):\n",
    "        if idx==0:\n",
    "            IE_label.append(label_map[j])\n",
    "        elif idx==1:\n",
    "            NS_label.append(label_map[j])\n",
    "        elif idx==2:\n",
    "            TF_label.append(label_map[j])\n",
    "        else:\n",
    "            JP_label.append(label_map[j])"
   ]
  },
  {
   "cell_type": "code",
   "execution_count": 259,
   "metadata": {},
   "outputs": [],
   "source": [
    "# split dataset\n",
    "# train : 80%\n",
    "# val : 10%\n",
    "# test : 10%\n",
    "X_train, X_val, IE_train, IE_val, NS_train, NS_val, TF_train, TF_val, JP_train, JP_val = train_test_split(X_vec, IE_label, NS_label, TF_label, JP_label, train_size=0.9)\n",
    "X_train, X_test, IE_train, IE_test, NS_train, NS_test, TF_train, TF_test, JP_train, JP_test = train_test_split(X_train, IE_train, NS_train, TF_train, JP_train, train_size=0.9)"
   ]
  },
  {
   "cell_type": "code",
   "execution_count": 268,
   "metadata": {},
   "outputs": [
    {
     "data": {
      "image/png": "[encoded data removed]",
      "text/plain": [
       "<Figure size 432x288 with 4 Axes>"
      ]
     },
     "metadata": {
      "needs_background": "light"
     },
     "output_type": "display_data"
    }
   ],
   "source": [
    "all_labels = [IE_train, NS_train, TF_train, JP_train]\n",
    "titles = ['IE_train', 'NS_train', 'TF_train', 'JP_train']\n",
    "for i in range(4):\n",
    "    plt.subplot(2,2,i+1)\n",
    "    count = dict(Counter(all_labels[i]))\n",
    "    sns.barplot(list(count.keys()), list(count.values()))\n",
    "    plt.title(titles[i])\n",
    "plt.tight_layout()"
   ]
  },
  {
   "cell_type": "markdown",
   "metadata": {},
   "source": [
    "As shown in graph above, IE and NS is imbalance, use undersampling or oversampling method to handle it\n",
    "\n",
    "https://machinelearningmastery.com/random-oversampling-and-undersampling-for-imbalanced-classification/\n",
    "\n",
    "Another way to handle imbalance data - https://stackoverflow.com/questions/30972029/how-does-the-class-weight-parameter-in-scikit-learn-work"
   ]
  },
  {
   "cell_type": "code",
   "execution_count": 269,
   "metadata": {},
   "outputs": [],
   "source": [
    "smote = SMOTE()\n",
    "rus = RandomUnderSampler()"
   ]
  },
  {
   "cell_type": "code",
   "execution_count": null,
   "metadata": {},
   "outputs": [],
   "source": [
    "# undersampling\n",
    "X_train_res, IE_train_res = rus.fit_resample(X_train, IE_train)\n",
    "####### training code here #######\n",
    "##################################\n",
    "\n",
    "X_train_res, NS_train_res = rus.fit_resample(X_train, NS_train)\n",
    "####### training code here #######\n",
    "##################################\n",
    "\n",
    "# oversampling\n",
    "X_train_res, IE_train_res = smote.fit_resample(X_train, IE_train)\n",
    "####### training code here #######\n",
    "##################################\n",
    "\n",
    "X_train_res, NS_train_res = smote.fit_resample(X_train, NS_train)\n",
    "####### training code here #######\n",
    "##################################"
   ]
  },
  {
   "cell_type": "code",
   "execution_count": null,
   "metadata": {},
   "outputs": [],
   "source": []
  },
  {
   "cell_type": "code",
   "execution_count": null,
   "metadata": {},
   "outputs": [],
   "source": []
  },
  {
   "cell_type": "code",
   "execution_count": null,
   "metadata": {},
   "outputs": [],
   "source": []
  },
  {
   "cell_type": "markdown",
   "metadata": {},
   "source": [
    "## Method 2\n",
    "\n",
    "Keras - https://machinelearningmastery.com/sequence-classification-lstm-recurrent-neural-networks-python-keras/\n",
    "\n",
    "Pytorch - https://www.analyticsvidhya.com/blog/2020/01/first-text-classification-in-pytorch/"
   ]
  },
  {
   "cell_type": "code",
   "execution_count": 271,
   "metadata": {},
   "outputs": [],
   "source": [
    "# Create data label\n",
    "label_map = {'I':0, 'E':1,\n",
    "            'N':0, 'S':1,\n",
    "            'T':0, 'F':1,\n",
    "            'J':0, 'P':1}\n",
    "\n",
    "IE_label = []\n",
    "NS_label = []\n",
    "TF_label = []\n",
    "JP_label = []\n",
    "\n",
    "for i in y:\n",
    "    for idx, j in enumerate(i):\n",
    "        if idx==0:\n",
    "            IE_label.append(label_map[j])\n",
    "        elif idx==1:\n",
    "            NS_label.append(label_map[j])\n",
    "        elif idx==2:\n",
    "            TF_label.append(label_map[j])\n",
    "        else:\n",
    "            JP_label.append(label_map[j])"
   ]
  },
  {
   "cell_type": "code",
   "execution_count": 290,
   "metadata": {},
   "outputs": [],
   "source": [
    "# convert each word to its respective index\n",
    "def vectorize_data(data):\n",
    "    results = []\n",
    "    for sentence in data:\n",
    "        sentence = sentence.split()\n",
    "        temp = []\n",
    "        for word in sentence:\n",
    "            temp.append(vocab.word2idx[word])\n",
    "        results.append(temp)\n",
    "    return results"
   ]
  },
  {
   "cell_type": "code",
   "execution_count": 289,
   "metadata": {},
   "outputs": [],
   "source": [
    "# create a custome dataloader to load by batch\n",
    "class DataLoader:\n",
    "    def __init__(self, data, label, batch_size):\n",
    "        self.data = data\n",
    "        self.label = label\n",
    "        self.batch_size = batch_size\n",
    "        self.n_batch = len(data) // self.batch_size\n",
    "        \n",
    "    def get_batch(self):\n",
    "        batch_idxs = self.get_batch_idx()\n",
    "        x = []\n",
    "        y = []\n",
    "        for idxs in batch_idxs:\n",
    "            temp_x = []\n",
    "            temp_y = []\n",
    "            temp_len = []\n",
    "            for idx in idxs:\n",
    "                x_, y_ = self.get_item(idx)\n",
    "                temp_x.append(torch.tensor(x_))\n",
    "                temp_len.append(len(x_))\n",
    "                temp_y.append(y_)\n",
    "                \n",
    "            # reference : https://stackoverflow.com/questions/51030782/why-do-we-pack-the-sequences-in-pytorch\n",
    "            temp_len, sort_idx = torch.sort(torch.tensor(temp_len), descending=True)\n",
    "            temp_x = torch.nn.utils.rnn.pad_sequence(temp_x, batch_first=True)[sort_idx]\n",
    "            temp_y = torch.tensor(temp_y)[sort_idx]\n",
    "            yield temp_x, temp_y, temp_len\n",
    "            \n",
    "    def get_item(self, idx):\n",
    "        x = self.data[idx]\n",
    "        y = self.label[idx]\n",
    "        return x, y\n",
    "    \n",
    "    def get_batch_idx(self):\n",
    "        idxs = list(range(self.__len__()))\n",
    "        result_idxs = []\n",
    "        for _ in range(self.n_batch):\n",
    "            batch_idx = random.sample(idxs, self.batch_size)\n",
    "            for idx in batch_idx:\n",
    "                idxs.remove(idx)\n",
    "            result_idxs.append(batch_idx)\n",
    "        return result_idxs\n",
    "        \n",
    "    def __len__(self):\n",
    "        return len(self.data)"
   ]
  },
  {
   "cell_type": "code",
   "execution_count": 302,
   "metadata": {},
   "outputs": [],
   "source": [
    "vec_data = vectorize_data(X)"
   ]
  },
  {
   "cell_type": "code",
   "execution_count": 355,
   "metadata": {},
   "outputs": [],
   "source": [
    "X_train, X_val, IE_train, IE_val, NS_train, NS_val, TF_train, TF_val, JP_train, JP_val = train_test_split(vec_data, IE_label, NS_label, TF_label, JP_label, train_size=0.9)\n",
    "X_train, X_test, IE_train, IE_test, NS_train, NS_test, TF_train, TF_test, JP_train, JP_test = train_test_split(X_train, IE_train, NS_train, TF_train, JP_train, train_size=0.9)"
   ]
  },
  {
   "cell_type": "code",
   "execution_count": 367,
   "metadata": {},
   "outputs": [
    {
     "ename": "NameError",
     "evalue": "name 'torch' is not defined",
     "output_type": "error",
     "traceback": [
      "\u001b[1;31m---------------------------------------------------------------------------\u001b[0m",
      "\u001b[1;31mNameError\u001b[0m                                 Traceback (most recent call last)",
      "\u001b[1;32m<ipython-input-367-8e67739bed52>\u001b[0m in \u001b[0;36m<module>\u001b[1;34m\u001b[0m\n\u001b[0;32m      1\u001b[0m \u001b[1;31m# create data loader to get batch data\u001b[0m\u001b[1;33m\u001b[0m\u001b[1;33m\u001b[0m\u001b[1;33m\u001b[0m\u001b[0m\n\u001b[0;32m      2\u001b[0m \u001b[0mdata_loader\u001b[0m \u001b[1;33m=\u001b[0m \u001b[0mDataLoader\u001b[0m\u001b[1;33m(\u001b[0m\u001b[0mX_train\u001b[0m\u001b[1;33m,\u001b[0m \u001b[0mIE_train\u001b[0m\u001b[1;33m,\u001b[0m \u001b[0mbatch_size\u001b[0m\u001b[1;33m=\u001b[0m\u001b[1;36m32\u001b[0m\u001b[1;33m)\u001b[0m\u001b[1;33m\u001b[0m\u001b[1;33m\u001b[0m\u001b[0m\n\u001b[1;32m----> 3\u001b[1;33m \u001b[1;32mfor\u001b[0m \u001b[0mx\u001b[0m\u001b[1;33m,\u001b[0m \u001b[0my\u001b[0m\u001b[1;33m,\u001b[0m \u001b[0mx_len\u001b[0m \u001b[1;32min\u001b[0m \u001b[0mdata_loader\u001b[0m\u001b[1;33m.\u001b[0m\u001b[0mget_batch\u001b[0m\u001b[1;33m(\u001b[0m\u001b[1;33m)\u001b[0m\u001b[1;33m:\u001b[0m\u001b[1;33m\u001b[0m\u001b[1;33m\u001b[0m\u001b[0m\n\u001b[0m\u001b[0;32m      4\u001b[0m     \u001b[1;32mbreak\u001b[0m\u001b[1;33m\u001b[0m\u001b[1;33m\u001b[0m\u001b[0m\n",
      "\u001b[1;32m<ipython-input-289-e252c5795483>\u001b[0m in \u001b[0;36mget_batch\u001b[1;34m(self)\u001b[0m\n\u001b[0;32m     16\u001b[0m             \u001b[1;32mfor\u001b[0m \u001b[0midx\u001b[0m \u001b[1;32min\u001b[0m \u001b[0midxs\u001b[0m\u001b[1;33m:\u001b[0m\u001b[1;33m\u001b[0m\u001b[1;33m\u001b[0m\u001b[0m\n\u001b[0;32m     17\u001b[0m                 \u001b[0mx_\u001b[0m\u001b[1;33m,\u001b[0m \u001b[0my_\u001b[0m \u001b[1;33m=\u001b[0m \u001b[0mself\u001b[0m\u001b[1;33m.\u001b[0m\u001b[0mget_item\u001b[0m\u001b[1;33m(\u001b[0m\u001b[0midx\u001b[0m\u001b[1;33m)\u001b[0m\u001b[1;33m\u001b[0m\u001b[1;33m\u001b[0m\u001b[0m\n\u001b[1;32m---> 18\u001b[1;33m                 \u001b[0mtemp_x\u001b[0m\u001b[1;33m.\u001b[0m\u001b[0mappend\u001b[0m\u001b[1;33m(\u001b[0m\u001b[0mtorch\u001b[0m\u001b[1;33m.\u001b[0m\u001b[0mtensor\u001b[0m\u001b[1;33m(\u001b[0m\u001b[0mx_\u001b[0m\u001b[1;33m)\u001b[0m\u001b[1;33m)\u001b[0m\u001b[1;33m\u001b[0m\u001b[1;33m\u001b[0m\u001b[0m\n\u001b[0m\u001b[0;32m     19\u001b[0m                 \u001b[0mtemp_len\u001b[0m\u001b[1;33m.\u001b[0m\u001b[0mappend\u001b[0m\u001b[1;33m(\u001b[0m\u001b[0mlen\u001b[0m\u001b[1;33m(\u001b[0m\u001b[0mx_\u001b[0m\u001b[1;33m)\u001b[0m\u001b[1;33m)\u001b[0m\u001b[1;33m\u001b[0m\u001b[1;33m\u001b[0m\u001b[0m\n\u001b[0;32m     20\u001b[0m                 \u001b[0mtemp_y\u001b[0m\u001b[1;33m.\u001b[0m\u001b[0mappend\u001b[0m\u001b[1;33m(\u001b[0m\u001b[0my_\u001b[0m\u001b[1;33m)\u001b[0m\u001b[1;33m\u001b[0m\u001b[1;33m\u001b[0m\u001b[0m\n",
      "\u001b[1;31mNameError\u001b[0m: name 'torch' is not defined"
     ]
    }
   ],
   "source": [
    "# create data loader to get batch data\n",
    "data_loader = DataLoader(X_train, IE_train, batch_size=32)\n",
    "for x, y, x_len in data_loader.get_batch():\n",
    "    break"
   ]
  },
  {
   "cell_type": "code",
   "execution_count": null,
   "metadata": {},
   "outputs": [],
   "source": []
  },
  {
   "cell_type": "code",
   "execution_count": null,
   "metadata": {},
   "outputs": [],
   "source": []
  },
  {
   "cell_type": "markdown",
   "metadata": {},
   "source": [
    "# 16 labels"
   ]
  },
  {
   "cell_type": "markdown",
   "metadata": {},
   "source": [
    "## Method 1"
   ]
  },
  {
   "cell_type": "code",
   "execution_count": 266,
   "metadata": {},
   "outputs": [],
   "source": [
    "from sklearn.feature_extraction.text import CountVectorizer, TfidfTransformer\n",
    "from sklearn.model_selection import train_test_split\n",
    "\n",
    "# for plotting\n",
    "import matplotlib.pyplot as plt\n",
    "import seaborn as sns\n",
    "\n",
    "# to handle imbalance label\n",
    "from imblearn.over_sampling import SMOTE\n",
    "from imblearn.under_sampling import RandomUnderSampler"
   ]
  },
  {
   "cell_type": "code",
   "execution_count": 331,
   "metadata": {},
   "outputs": [],
   "source": [
    "# Count Vectorizer explain - https://kavita-ganesan.com/how-to-use-countvectorizer/#.Xs8mEmgzZPY\n",
    "# Tfidf explain - https://kavita-ganesan.com/tfidftransformer-tfidfvectorizer-usage-differences/#.Xs8l72gzZPY\n",
    "count_vec = CountVectorizer(min_df=0.01, max_df=0.99)\n",
    "tfidf_vec = TfidfTransformer()\n",
    "\n",
    "label_encoder = LabelEncoder()"
   ]
  },
  {
   "cell_type": "code",
   "execution_count": 299,
   "metadata": {},
   "outputs": [],
   "source": [
    "X = df2.x.values\n",
    "y = df2.y.values"
   ]
  },
  {
   "cell_type": "code",
   "execution_count": 235,
   "metadata": {},
   "outputs": [],
   "source": [
    "X_vec = count_vec.fit_transform(X)\n",
    "X_vec = tfidf_vec.fit_transform(X_vec)"
   ]
  },
  {
   "cell_type": "code",
   "execution_count": 332,
   "metadata": {},
   "outputs": [],
   "source": [
    "y_vec = label_encoder.fit_transform(y)"
   ]
  },
  {
   "cell_type": "code",
   "execution_count": 336,
   "metadata": {},
   "outputs": [],
   "source": [
    "X_train, X_val, y_train, y_val = train_test_split(X_vec, y_vec, train_size=0.9)\n",
    "X_train, X_test, y_train, y_test = train_test_split(X_train, y_train, train_size=0.9)"
   ]
  },
  {
   "cell_type": "code",
   "execution_count": 347,
   "metadata": {},
   "outputs": [
    {
     "data": {
      "image/png": "[encoded data removed]",
      "text/plain": [
       "<Figure size 432x288 with 1 Axes>"
      ]
     },
     "metadata": {
      "needs_background": "light"
     },
     "output_type": "display_data"
    }
   ],
   "source": [
    "count = dict(Counter(y_train))\n",
    "sns.barplot(list(count.keys()), list(count.values()))\n",
    "plt.tight_layout()"
   ]
  },
  {
   "cell_type": "markdown",
   "metadata": {},
   "source": [
    "Imbalance data too\n",
    "\n",
    "option\n",
    "1. undersampling or oversampling\n",
    "\n",
    "2. modify class weight"
   ]
  },
  {
   "cell_type": "code",
   "execution_count": 343,
   "metadata": {},
   "outputs": [],
   "source": [
    "# under sampling or over sampling\n",
    "smote = SMOTE()\n",
    "rus = RandomUnderSampler()\n",
    "\n",
    "X_res, y_res = smote.fit_resample(X_train, y_train)\n",
    "####### training code here #######\n",
    "##################################\n",
    "\n",
    "X_res, y_res = rus.fit_resample(X_train, y_train)\n",
    "####### training code here #######\n",
    "##################################"
   ]
  },
  {
   "cell_type": "markdown",
   "metadata": {},
   "source": [
    "## Method 2"
   ]
  },
  {
   "cell_type": "code",
   "execution_count": 324,
   "metadata": {},
   "outputs": [],
   "source": [
    "vec_data = vectorize_data(X)\n",
    "unique_label = np.unique(y)\n",
    "label2idx = dict(zip(unique_label, list(range(len(unique_label)))))\n",
    "idx2label = dict(zip(list(range(len(unique_label))), unique_label))\n",
    "vec_label = []\n",
    "for i in y:\n",
    "    vec_label.append(label2idx[i])"
   ]
  },
  {
   "cell_type": "code",
   "execution_count": 349,
   "metadata": {},
   "outputs": [],
   "source": [
    "def plot(label):\n",
    "    count = Counter(label)\n",
    "    keys = np.array(list(count.keys()))\n",
    "    keys2 = []\n",
    "    for key in keys:\n",
    "        keys2.append(idx2label[key])\n",
    "    keys2 = np.array(keys2)\n",
    "    values = np.array(list(count.values()))\n",
    "    idx = np.argsort(values)\n",
    "    sns.barplot(keys2[idx], values[idx])"
   ]
  },
  {
   "cell_type": "code",
   "execution_count": 364,
   "metadata": {},
   "outputs": [
    {
     "data": {
      "image/png": "[encoded data removed]",
      "text/plain": [
       "<Figure size 432x288 with 1 Axes>"
      ]
     },
     "metadata": {
      "needs_background": "light"
     },
     "output_type": "display_data"
    }
   ],
   "source": [
    "plot(vec_label)"
   ]
  },
  {
   "cell_type": "markdown",
   "metadata": {},
   "source": [
    "imbalanced"
   ]
  },
  {
   "cell_type": "code",
   "execution_count": 362,
   "metadata": {},
   "outputs": [],
   "source": [
    "train_data, val_data, train_label, val_label = train_test_split(vec_data, vec_label, train_size=0.9)\n",
    "train_data, test_data, train_label, test_label = train_test_split(train_data, train_label, train_size=0.9)"
   ]
  },
  {
   "cell_type": "code",
   "execution_count": 366,
   "metadata": {},
   "outputs": [],
   "source": [
    "data_loader = DataLoader(train_data, train_label, batch_size=32)"
   ]
  },
  {
   "cell_type": "code",
   "execution_count": null,
   "metadata": {},
   "outputs": [],
   "source": []
  },
  {
   "cell_type": "code",
   "execution_count": null,
   "metadata": {},
   "outputs": [],
   "source": []
  },
  {
   "cell_type": "code",
   "execution_count": null,
   "metadata": {},
   "outputs": [],
   "source": []
  },
  {
   "cell_type": "code",
   "execution_count": null,
   "metadata": {},
   "outputs": [],
   "source": []
  },
  {
   "cell_type": "code",
   "execution_count": null,
   "metadata": {},
   "outputs": [],
   "source": []
  },
  {
   "cell_type": "code",
   "execution_count": null,
   "metadata": {},
   "outputs": [],
   "source": []
  }
 ],
 "metadata": {
  "kernelspec": {
   "display_name": "Python 3",
   "language": "python",
   "name": "python3"
  },
  "language_info": {
   "codemirror_mode": {
    "name": "ipython",
    "version": 3
   },
   "file_extension": ".py",
   "mimetype": "text/x-python",
   "name": "python",
   "nbconvert_exporter": "python",
   "pygments_lexer": "ipython3",
   "version": "3.7.3"
  }
 },
 "nbformat": 4,
 "nbformat_minor": 2
}
